{
 "cells": [
  {
   "cell_type": "code",
   "execution_count": 11,
   "id": "3d38bb3a-6761-462b-b08c-886ec5a80bec",
   "metadata": {},
   "outputs": [],
   "source": [
    "import pandas as pd # Python library for data analysis and data frame\n",
    "import numpy as np # Numerical Python library for linear algebra and computations\n",
    "pd.set_option('display.max_columns', None) # code to display all columns\n",
    "\n",
    "# Visualisation libraries\n",
    "%matplotlib inline\n",
    "import matplotlib.pyplot as plt\n",
    "import seaborn as sns\n",
    "\n",
    "# libraries for text processing\n",
    "import nltk\n",
    "from nltk.stem.snowball import SnowballStemmer\n",
    "from sklearn.feature_extraction.text import TfidfVectorizer\n",
    "from sklearn.metrics.pairwise import cosine_similarity\n",
    "\n",
    "# to display images\n",
    "from skimage import io\n",
    "\n",
    "# to save the required files\n",
    "import pickle\n",
    "\n",
    "import warnings\n",
    "warnings.filterwarnings('ignore') # To prevent kernel from showing any warning"
   ]
  },
  {
   "cell_type": "code",
   "execution_count": 12,
   "id": "2a743685-236f-4b60-afec-a27c38804b50",
   "metadata": {},
   "outputs": [],
   "source": [
    "df=pd.read_csv(r\"C:\\Users\\nahme\\Downloads\\movies\\movies.csv\")"
   ]
  },
  {
   "cell_type": "markdown",
   "id": "f31a8ca9-cbe0-4b9a-9668-196403e79939",
   "metadata": {},
   "source": [
    "# <p style=\"background-color:#C71A27;font-family:verdana;color:white;text-align:center;letter-spacing:0.5px;font-size:100%;padding: 10px\"> Initial Analysis </p>"
   ]
  },
  {
   "cell_type": "code",
   "execution_count": 13,
   "id": "18048b6e-cefb-4525-864e-e3eb895db40c",
   "metadata": {},
   "outputs": [
    {
     "data": {
      "text/html": [
       "<div>\n",
       "<style scoped>\n",
       "    .dataframe tbody tr th:only-of-type {\n",
       "        vertical-align: middle;\n",
       "    }\n",
       "\n",
       "    .dataframe tbody tr th {\n",
       "        vertical-align: top;\n",
       "    }\n",
       "\n",
       "    .dataframe thead th {\n",
       "        text-align: right;\n",
       "    }\n",
       "</style>\n",
       "<table border=\"1\" class=\"dataframe\">\n",
       "  <thead>\n",
       "    <tr style=\"text-align: right;\">\n",
       "      <th></th>\n",
       "      <th>id</th>\n",
       "      <th>title</th>\n",
       "      <th>genres</th>\n",
       "      <th>original_language</th>\n",
       "      <th>overview</th>\n",
       "      <th>popularity</th>\n",
       "      <th>production_companies</th>\n",
       "      <th>release_date</th>\n",
       "      <th>budget</th>\n",
       "      <th>revenue</th>\n",
       "      <th>runtime</th>\n",
       "      <th>status</th>\n",
       "      <th>tagline</th>\n",
       "      <th>vote_average</th>\n",
       "      <th>vote_count</th>\n",
       "      <th>credits</th>\n",
       "      <th>keywords</th>\n",
       "      <th>poster_path</th>\n",
       "      <th>backdrop_path</th>\n",
       "      <th>recommendations</th>\n",
       "    </tr>\n",
       "  </thead>\n",
       "  <tbody>\n",
       "    <tr>\n",
       "      <th>0</th>\n",
       "      <td>760161</td>\n",
       "      <td>Orphan: First Kill</td>\n",
       "      <td>Horror-Thriller</td>\n",
       "      <td>en</td>\n",
       "      <td>After escaping from an Estonian psychiatric fa...</td>\n",
       "      <td>8098.027</td>\n",
       "      <td>Dark Castle Entertainment-Entertainment One-Ea...</td>\n",
       "      <td>2022-07-27</td>\n",
       "      <td>0.0</td>\n",
       "      <td>9572765.0</td>\n",
       "      <td>99.0</td>\n",
       "      <td>Released</td>\n",
       "      <td>There's always been something wrong with Esther.</td>\n",
       "      <td>6.963</td>\n",
       "      <td>821.0</td>\n",
       "      <td>Isabelle Fuhrman-Julia Stiles-Rossif Sutherlan...</td>\n",
       "      <td>psychopath-family secrets-prequel-murder-imper...</td>\n",
       "      <td>/wSqAXL1EHVJ3MOnJzMhUngc8gFs.jpg</td>\n",
       "      <td>/5GA3vV1aWWHTSDO5eno8V5zDo8r.jpg</td>\n",
       "      <td>606237-818502-744276-721930-1001925-762504-982...</td>\n",
       "    </tr>\n",
       "    <tr>\n",
       "      <th>1</th>\n",
       "      <td>718930</td>\n",
       "      <td>Bullet Train</td>\n",
       "      <td>Action-Comedy-Thriller</td>\n",
       "      <td>en</td>\n",
       "      <td>Unlucky assassin Ladybug is determined to do h...</td>\n",
       "      <td>7949.491</td>\n",
       "      <td>Columbia Pictures-87North Productions</td>\n",
       "      <td>2022-07-03</td>\n",
       "      <td>90000000.0</td>\n",
       "      <td>231398720.0</td>\n",
       "      <td>126.0</td>\n",
       "      <td>Released</td>\n",
       "      <td>The end of the line is just the beginning.</td>\n",
       "      <td>7.497</td>\n",
       "      <td>1238.0</td>\n",
       "      <td>Brad Pitt-Joey King-Aaron Taylor-Johnson-Brian...</td>\n",
       "      <td>japan-assassin-based on novel or book-mission-...</td>\n",
       "      <td>/tVxDe01Zy3kZqaZRNiXFGDICdZk.jpg</td>\n",
       "      <td>/y2Ca1neKke2mGPMaHzlCNDVZqsK.jpg</td>\n",
       "      <td>1002564-762504-755566-1002171-682507-884453-55...</td>\n",
       "    </tr>\n",
       "    <tr>\n",
       "      <th>2</th>\n",
       "      <td>744276</td>\n",
       "      <td>After Ever Happy</td>\n",
       "      <td>Romance-Drama</td>\n",
       "      <td>en</td>\n",
       "      <td>As a shocking truth about a couple's families ...</td>\n",
       "      <td>4017.342</td>\n",
       "      <td>Voltage Pictures-Vertical Entertainment-CalMap...</td>\n",
       "      <td>2022-08-24</td>\n",
       "      <td>0.0</td>\n",
       "      <td>0.0</td>\n",
       "      <td>95.0</td>\n",
       "      <td>Released</td>\n",
       "      <td>They can't stop loving each other.</td>\n",
       "      <td>6.830</td>\n",
       "      <td>215.0</td>\n",
       "      <td>Josephine Langford-Hero Fiennes Tiffin-Louise ...</td>\n",
       "      <td>based on novel or book-love-teenage crush</td>\n",
       "      <td>/6b7swg6DLqXCO3XUsMnv6RwDMW2.jpg</td>\n",
       "      <td>/rwgmDkIEv8VjAsWx25ottJrFvpO.jpg</td>\n",
       "      <td>20966-676701-419669-804251-766907-619803-67670...</td>\n",
       "    </tr>\n",
       "    <tr>\n",
       "      <th>3</th>\n",
       "      <td>579974</td>\n",
       "      <td>RRR</td>\n",
       "      <td>Action-Drama</td>\n",
       "      <td>te</td>\n",
       "      <td>A fictional history of two legendary revolutio...</td>\n",
       "      <td>3416.323</td>\n",
       "      <td>Lyca Productions-DVV Entertainment-Pen Studios</td>\n",
       "      <td>2022-03-24</td>\n",
       "      <td>69000000.0</td>\n",
       "      <td>160000000.0</td>\n",
       "      <td>182.0</td>\n",
       "      <td>Released</td>\n",
       "      <td>Rise, roar, revolt.</td>\n",
       "      <td>7.774</td>\n",
       "      <td>370.0</td>\n",
       "      <td>N.T. Rama Rao Jr.-Ram Charan-Alia Bhatt-Ajay D...</td>\n",
       "      <td>revolution-liberation-slavery-freedom fighter-...</td>\n",
       "      <td>/wE0I6efAW4cDDmZQWtwZMOW44EJ.jpg</td>\n",
       "      <td>/i0Y0wP8H6SRgjr6QmuwbtQbS24D.jpg</td>\n",
       "      <td>601337-889741-587412-766116-792358-680058-2372...</td>\n",
       "    </tr>\n",
       "    <tr>\n",
       "      <th>4</th>\n",
       "      <td>532639</td>\n",
       "      <td>Pinocchio</td>\n",
       "      <td>Fantasy-Adventure-Family</td>\n",
       "      <td>en</td>\n",
       "      <td>A wooden puppet embarks on a thrilling adventu...</td>\n",
       "      <td>3239.378</td>\n",
       "      <td>Walt Disney Pictures-Depth of Field</td>\n",
       "      <td>2022-09-07</td>\n",
       "      <td>0.0</td>\n",
       "      <td>0.0</td>\n",
       "      <td>105.0</td>\n",
       "      <td>Released</td>\n",
       "      <td>The timeless classic.</td>\n",
       "      <td>6.753</td>\n",
       "      <td>800.0</td>\n",
       "      <td>Benjamin Evan Ainsworth-Tom Hanks-Joseph Gordo...</td>\n",
       "      <td>fairy-musical-puppet-live action and animation...</td>\n",
       "      <td>/g8sclIV4gj1TZqUpnL82hKOTK3B.jpg</td>\n",
       "      <td>/nnUQqlVZeEGuCRx8SaoCU4XVHJN.jpg</td>\n",
       "      <td>985939-610150-760741-921360-576925-616037-5799...</td>\n",
       "    </tr>\n",
       "  </tbody>\n",
       "</table>\n",
       "</div>"
      ],
      "text/plain": [
       "       id               title                    genres original_language  \\\n",
       "0  760161  Orphan: First Kill           Horror-Thriller                en   \n",
       "1  718930        Bullet Train    Action-Comedy-Thriller                en   \n",
       "2  744276    After Ever Happy             Romance-Drama                en   \n",
       "3  579974                 RRR              Action-Drama                te   \n",
       "4  532639           Pinocchio  Fantasy-Adventure-Family                en   \n",
       "\n",
       "                                            overview  popularity  \\\n",
       "0  After escaping from an Estonian psychiatric fa...    8098.027   \n",
       "1  Unlucky assassin Ladybug is determined to do h...    7949.491   \n",
       "2  As a shocking truth about a couple's families ...    4017.342   \n",
       "3  A fictional history of two legendary revolutio...    3416.323   \n",
       "4  A wooden puppet embarks on a thrilling adventu...    3239.378   \n",
       "\n",
       "                                production_companies release_date      budget  \\\n",
       "0  Dark Castle Entertainment-Entertainment One-Ea...   2022-07-27         0.0   \n",
       "1              Columbia Pictures-87North Productions   2022-07-03  90000000.0   \n",
       "2  Voltage Pictures-Vertical Entertainment-CalMap...   2022-08-24         0.0   \n",
       "3     Lyca Productions-DVV Entertainment-Pen Studios   2022-03-24  69000000.0   \n",
       "4                Walt Disney Pictures-Depth of Field   2022-09-07         0.0   \n",
       "\n",
       "       revenue  runtime    status  \\\n",
       "0    9572765.0     99.0  Released   \n",
       "1  231398720.0    126.0  Released   \n",
       "2          0.0     95.0  Released   \n",
       "3  160000000.0    182.0  Released   \n",
       "4          0.0    105.0  Released   \n",
       "\n",
       "                                            tagline  vote_average  vote_count  \\\n",
       "0  There's always been something wrong with Esther.         6.963       821.0   \n",
       "1        The end of the line is just the beginning.         7.497      1238.0   \n",
       "2                They can't stop loving each other.         6.830       215.0   \n",
       "3                               Rise, roar, revolt.         7.774       370.0   \n",
       "4                             The timeless classic.         6.753       800.0   \n",
       "\n",
       "                                             credits  \\\n",
       "0  Isabelle Fuhrman-Julia Stiles-Rossif Sutherlan...   \n",
       "1  Brad Pitt-Joey King-Aaron Taylor-Johnson-Brian...   \n",
       "2  Josephine Langford-Hero Fiennes Tiffin-Louise ...   \n",
       "3  N.T. Rama Rao Jr.-Ram Charan-Alia Bhatt-Ajay D...   \n",
       "4  Benjamin Evan Ainsworth-Tom Hanks-Joseph Gordo...   \n",
       "\n",
       "                                            keywords  \\\n",
       "0  psychopath-family secrets-prequel-murder-imper...   \n",
       "1  japan-assassin-based on novel or book-mission-...   \n",
       "2          based on novel or book-love-teenage crush   \n",
       "3  revolution-liberation-slavery-freedom fighter-...   \n",
       "4  fairy-musical-puppet-live action and animation...   \n",
       "\n",
       "                        poster_path                     backdrop_path  \\\n",
       "0  /wSqAXL1EHVJ3MOnJzMhUngc8gFs.jpg  /5GA3vV1aWWHTSDO5eno8V5zDo8r.jpg   \n",
       "1  /tVxDe01Zy3kZqaZRNiXFGDICdZk.jpg  /y2Ca1neKke2mGPMaHzlCNDVZqsK.jpg   \n",
       "2  /6b7swg6DLqXCO3XUsMnv6RwDMW2.jpg  /rwgmDkIEv8VjAsWx25ottJrFvpO.jpg   \n",
       "3  /wE0I6efAW4cDDmZQWtwZMOW44EJ.jpg  /i0Y0wP8H6SRgjr6QmuwbtQbS24D.jpg   \n",
       "4  /g8sclIV4gj1TZqUpnL82hKOTK3B.jpg  /nnUQqlVZeEGuCRx8SaoCU4XVHJN.jpg   \n",
       "\n",
       "                                     recommendations  \n",
       "0  606237-818502-744276-721930-1001925-762504-982...  \n",
       "1  1002564-762504-755566-1002171-682507-884453-55...  \n",
       "2  20966-676701-419669-804251-766907-619803-67670...  \n",
       "3  601337-889741-587412-766116-792358-680058-2372...  \n",
       "4  985939-610150-760741-921360-576925-616037-5799...  "
      ]
     },
     "execution_count": 13,
     "metadata": {},
     "output_type": "execute_result"
    }
   ],
   "source": [
    "df.head()"
   ]
  },
  {
   "cell_type": "code",
   "execution_count": 14,
   "id": "c07a80a8-3843-4f59-88e8-aa3f357469b9",
   "metadata": {},
   "outputs": [
    {
     "name": "stdout",
     "output_type": "stream",
     "text": [
      "<class 'pandas.core.frame.DataFrame'>\n",
      "RangeIndex: 744493 entries, 0 to 744492\n",
      "Data columns (total 20 columns):\n",
      " #   Column                Non-Null Count   Dtype  \n",
      "---  ------                --------------   -----  \n",
      " 0   id                    744493 non-null  int64  \n",
      " 1   title                 744487 non-null  object \n",
      " 2   genres                523793 non-null  object \n",
      " 3   original_language     744493 non-null  object \n",
      " 4   overview              623360 non-null  object \n",
      " 5   popularity            744493 non-null  float64\n",
      " 6   production_companies  345206 non-null  object \n",
      " 7   release_date          687712 non-null  object \n",
      " 8   budget                744493 non-null  float64\n",
      " 9   revenue               744493 non-null  float64\n",
      " 10  runtime               706032 non-null  float64\n",
      " 11  status                744493 non-null  object \n",
      " 12  tagline               109984 non-null  object \n",
      " 13  vote_average          744493 non-null  float64\n",
      " 14  vote_count            744493 non-null  float64\n",
      " 15  credits               513164 non-null  object \n",
      " 16  keywords              215024 non-null  object \n",
      " 17  poster_path           545394 non-null  object \n",
      " 18  backdrop_path         225367 non-null  object \n",
      " 19  recommendations       43687 non-null   object \n",
      "dtypes: float64(6), int64(1), object(13)\n",
      "memory usage: 113.6+ MB\n"
     ]
    }
   ],
   "source": [
    "df.info()"
   ]
  },
  {
   "cell_type": "code",
   "execution_count": 15,
   "id": "157ed797-584b-4a65-a038-771d10c158fe",
   "metadata": {},
   "outputs": [
    {
     "name": "stdout",
     "output_type": "stream",
     "text": [
      "Null values in each column:\n",
      "id                           0\n",
      "title                        6\n",
      "genres                  220700\n",
      "original_language            0\n",
      "overview                121133\n",
      "popularity                   0\n",
      "production_companies    399287\n",
      "release_date             56781\n",
      "budget                       0\n",
      "revenue                      0\n",
      "runtime                  38461\n",
      "status                       0\n",
      "tagline                 634509\n",
      "vote_average                 0\n",
      "vote_count                   0\n",
      "credits                 231329\n",
      "keywords                529469\n",
      "poster_path             199099\n",
      "backdrop_path           519126\n",
      "recommendations         700806\n",
      "dtype: int64\n",
      "\n",
      "Total null values: 3650706\n"
     ]
    }
   ],
   "source": [
    "print(\"Null values in each column:\")\n",
    "print(df.isnull().sum())\n",
    "print(\"\\nTotal null values:\", df.isnull().sum().sum())"
   ]
  },
  {
   "cell_type": "code",
   "execution_count": 16,
   "id": "2659423f-4309-4d73-a70c-6b781dfea552",
   "metadata": {},
   "outputs": [
    {
     "name": "stdout",
     "output_type": "stream",
     "text": [
      "\n",
      "Number of duplicate rows: 173\n"
     ]
    }
   ],
   "source": [
    "duplicate_count = df.duplicated().sum()\n",
    "print(f\"\\nNumber of duplicate rows: {duplicate_count}\")"
   ]
  },
  {
   "cell_type": "markdown",
   "id": "00163fa2-605d-480f-aae2-ad67db8a6ecd",
   "metadata": {},
   "source": [
    "# <p style=\"background-color:#C71A27;font-family:verdana;color:white;text-align:center;letter-spacing:0.5px;font-size:100%;padding: 10px\"> Preprocessing </p>"
   ]
  },
  {
   "cell_type": "code",
   "execution_count": 17,
   "id": "0b8f2391-8216-4187-a281-203f99ed1436",
   "metadata": {},
   "outputs": [
    {
     "name": "stdout",
     "output_type": "stream",
     "text": [
      "\n",
      "DataFrame info before cleaning:\n",
      "Shape: (744493, 20)\n"
     ]
    }
   ],
   "source": [
    "print(\"\\nDataFrame info before cleaning:\")\n",
    "print(f\"Shape: {df.shape}\")"
   ]
  },
  {
   "cell_type": "code",
   "execution_count": 18,
   "id": "90dbe3e0-b5f4-4e77-b269-4cb340e9f865",
   "metadata": {},
   "outputs": [
    {
     "name": "stdout",
     "output_type": "stream",
     "text": [
      "\n",
      "After removing nulls:\n",
      "Shape: (16638, 20)\n",
      "Rows removed: 727855\n"
     ]
    }
   ],
   "source": [
    "df_clean = df.dropna()\n",
    "print(\"\\nAfter removing nulls:\")\n",
    "print(f\"Shape: {df_clean.shape}\")\n",
    "print(f\"Rows removed: {df.shape[0] - df_clean.shape[0]}\")"
   ]
  },
  {
   "cell_type": "code",
   "execution_count": 19,
   "id": "09d9d1cf-58d8-4ba1-8e79-3cd422a8b6f5",
   "metadata": {},
   "outputs": [
    {
     "name": "stdout",
     "output_type": "stream",
     "text": [
      "\n",
      "After removing duplicates:\n",
      "Shape: (16631, 20)\n",
      "Additional rows removed: 0\n"
     ]
    }
   ],
   "source": [
    "df_clean = df_clean.drop_duplicates()\n",
    "print(\"\\nAfter removing duplicates:\")\n",
    "print(f\"Shape: {df_clean.shape}\")\n",
    "print(f\"Additional rows removed: {df_clean.shape[0] - df_clean.shape[0]}\")\n",
    "\n"
   ]
  },
  {
   "cell_type": "code",
   "execution_count": 20,
   "id": "2dc7166e-1399-4b1a-8c4c-30078331c7ac",
   "metadata": {},
   "outputs": [
    {
     "name": "stdout",
     "output_type": "stream",
     "text": [
      "\n",
      "Final clean DataFrame shape: (16631, 20)\n"
     ]
    }
   ],
   "source": [
    "print(\"\\nFinal clean DataFrame shape:\", df_clean.shape)"
   ]
  },
  {
   "cell_type": "code",
   "execution_count": 21,
   "id": "df7d9858-9953-43fa-beaa-d431713923c4",
   "metadata": {},
   "outputs": [
    {
     "data": {
      "text/plain": [
       "0         False\n",
       "1         False\n",
       "2         False\n",
       "3         False\n",
       "4         False\n",
       "          ...  \n",
       "744488    False\n",
       "744489    False\n",
       "744490    False\n",
       "744491    False\n",
       "744492    False\n",
       "Name: id, Length: 744493, dtype: bool"
      ]
     },
     "execution_count": 21,
     "metadata": {},
     "output_type": "execute_result"
    }
   ],
   "source": [
    "df['id'].duplicated()"
   ]
  },
  {
   "cell_type": "code",
   "execution_count": 22,
   "id": "8adefc78-184d-4565-89ec-3f9bebba4f04",
   "metadata": {},
   "outputs": [
    {
     "data": {
      "text/plain": [
       "id                           0\n",
       "title                        6\n",
       "genres                  220700\n",
       "original_language            0\n",
       "overview                121133\n",
       "popularity                   0\n",
       "production_companies    399287\n",
       "release_date             56781\n",
       "budget                       0\n",
       "revenue                      0\n",
       "runtime                  38461\n",
       "status                       0\n",
       "tagline                 634509\n",
       "vote_average                 0\n",
       "vote_count                   0\n",
       "credits                 231329\n",
       "keywords                529469\n",
       "poster_path             199099\n",
       "backdrop_path           519126\n",
       "recommendations         700806\n",
       "dtype: int64"
      ]
     },
     "execution_count": 22,
     "metadata": {},
     "output_type": "execute_result"
    }
   ],
   "source": [
    "df.isna().sum()"
   ]
  },
  {
   "cell_type": "code",
   "execution_count": 23,
   "id": "93de646a-47dc-4e3e-9f84-416bf09cb8e9",
   "metadata": {},
   "outputs": [],
   "source": [
    "df.drop_duplicates(inplace=True)"
   ]
  },
  {
   "cell_type": "code",
   "execution_count": 24,
   "id": "594b25c6-7fb5-47d5-906b-caca55b117c2",
   "metadata": {},
   "outputs": [],
   "source": [
    "df.drop_duplicates(subset=['title','release_date'], inplace=True)"
   ]
  },
  {
   "cell_type": "code",
   "execution_count": 25,
   "id": "dfc3aa66-a5f5-4a77-968f-b2ce2cfaa458",
   "metadata": {},
   "outputs": [],
   "source": [
    "df1 = df[df['vote_count'] >= 20].reset_index()"
   ]
  },
  {
   "cell_type": "code",
   "execution_count": 26,
   "id": "2715f172-a750-437a-8e94-ff3b094a8771",
   "metadata": {},
   "outputs": [],
   "source": [
    "df1.fillna('', inplace=True)"
   ]
  },
  {
   "cell_type": "code",
   "execution_count": 27,
   "id": "bb7b7119-de17-4446-9f4c-312a9a83db0b",
   "metadata": {},
   "outputs": [],
   "source": [
    "index = df1[(df1['genres']=='') & (df1['overview']=='')].index"
   ]
  },
  {
   "cell_type": "code",
   "execution_count": 28,
   "id": "70fd6666-f2c4-4113-9d5a-351fc5a3d29b",
   "metadata": {},
   "outputs": [],
   "source": [
    "df1.drop(index, inplace=True)"
   ]
  },
  {
   "cell_type": "code",
   "execution_count": 29,
   "id": "edf66242-dda9-4260-b39e-9300fbd85006",
   "metadata": {},
   "outputs": [
    {
     "data": {
      "text/plain": [
       "(43194, 21)"
      ]
     },
     "execution_count": 29,
     "metadata": {},
     "output_type": "execute_result"
    }
   ],
   "source": [
    "df1.shape"
   ]
  },
  {
   "cell_type": "code",
   "execution_count": 30,
   "id": "b76389c6-2fcc-43ec-b024-611d0c877a4f",
   "metadata": {},
   "outputs": [],
   "source": [
    "df1['genres'] = df1['genres'].apply(lambda x:' '.join(x.split('-')))\n",
    "df1['keywords'] = df1['keywords'].apply(lambda x: ' '.join(x.split('-')))\n",
    "df1['credits'] = df1['credits'].apply(lambda x: ' '.join(x.replace(' ','').split('-')[:5]))"
   ]
  },
  {
   "cell_type": "markdown",
   "id": "30d8fd79-9c80-4019-93eb-8447367238db",
   "metadata": {},
   "source": [
    "# <p style=\"background-color:#C71A27;font-family:verdana;color:white;text-align:center;letter-spacing:0.5px;font-size:100%;padding: 10px\"> Creating Tags </p>"
   ]
  },
  {
   "cell_type": "code",
   "execution_count": 31,
   "id": "7a73fa40-eb8a-494c-acb7-95b8554771fa",
   "metadata": {},
   "outputs": [],
   "source": [
    "df1['tags']= df1['overview']+' '+ df1['genres']+' '+ df1['keywords']+' '+ df1['credits']+' '+ df1['original_language']"
   ]
  },
  {
   "cell_type": "code",
   "execution_count": 32,
   "id": "2434c2e0-fad5-4d22-a5aa-4366f5ecfa66",
   "metadata": {},
   "outputs": [
    {
     "data": {
      "text/plain": [
       "'After escaping from an Estonian psychiatric facility Leena Klammer travels to America by impersonating Esther the missing daughter of a wealthy family. But when her mask starts to slip she is put against a mother who will protect her family from the murderous “child” at any cost. Horror Thriller psychopath family secrets prequel murder impersonator mental patient psycho killer escaped mental patient missing daughter estonia female psychopath IsabelleFuhrman JuliaStiles RossifSutherland MatthewFinlan HiroKanagawa en'"
      ]
     },
     "execution_count": 32,
     "metadata": {},
     "output_type": "execute_result"
    }
   ],
   "source": [
    "df1.tags[0]"
   ]
  },
  {
   "cell_type": "code",
   "execution_count": 33,
   "id": "841c1187-f135-4551-9d86-47eb4ec87b71",
   "metadata": {},
   "outputs": [],
   "source": [
    "stemmer = SnowballStemmer(\"english\")\n",
    "def stem(text):\n",
    "    y = []\n",
    "\n",
    "    for i in text.split():\n",
    "        y.append(stemmer.stem(i))\n",
    "\n",
    "    return ' '.join(y)\n",
    "\n",
    "df1['tags'] = df1['tags'].apply(stem)"
   ]
  },
  {
   "cell_type": "code",
   "execution_count": 34,
   "id": "cf9fc04d-adff-4029-94ab-ce5586aa646f",
   "metadata": {},
   "outputs": [],
   "source": [
    "df1['tags'] = df1['tags'].str.replace('[^\\w\\s]','')"
   ]
  },
  {
   "cell_type": "code",
   "execution_count": 35,
   "id": "8506eb23-87de-4445-b84a-5586cec98a1d",
   "metadata": {},
   "outputs": [],
   "source": [
    "tfidf = TfidfVectorizer(stop_words='english')\n",
    "\n",
    "tfidf_matrix = tfidf.fit_transform(df1['tags'])"
   ]
  },
  {
   "cell_type": "code",
   "execution_count": 36,
   "id": "64a31415-1d4a-41f3-b98c-ce0a6a24f555",
   "metadata": {},
   "outputs": [
    {
     "data": {
      "text/plain": [
       "'after escap from an estonian psychiatr facil leena klammer travel to america by imperson esther the miss daughter of a wealthi family. but when her mask start to slip she is put against a mother who will protect her famili from the murder “child” at ani cost. horror thriller psychopath famili secret prequel murder imperson mental patient psycho killer escap mental patient miss daughter estonia femal psychopath isabellefuhrman juliastil rossifsutherland matthewfinlan hirokanagawa en'"
      ]
     },
     "execution_count": 36,
     "metadata": {},
     "output_type": "execute_result"
    }
   ],
   "source": [
    "df1.tags[0]"
   ]
  },
  {
   "cell_type": "markdown",
   "id": "01d6e776-d65d-4b5e-a574-dbfc5f9752be",
   "metadata": {},
   "source": [
    "# <p style=\"background-color:#C71A27;font-family:verdana;color:white;text-align:center;letter-spacing:0.5px;font-size:100%;padding: 10px\"> Recommendation System </p>"
   ]
  },
  {
   "cell_type": "code",
   "execution_count": 37,
   "id": "168a085f-c4d0-4ade-b02d-5c854cc64c44",
   "metadata": {},
   "outputs": [],
   "source": [
    "# Function that takes in movie title as input and outputs most similar movies\n",
    "def get_recommendations(title):\n",
    "    # Get the index of the movie that matches the title\n",
    "    idx = df1.index[df1['title'] == title][0]\n",
    "    # show given movie poster\n",
    "    try:\n",
    "        a = io.imread(f'https://image.tmdb.org/t/p/w500/{df1.loc[idx, \"poster_path\"]}')\n",
    "        plt.imshow(a)\n",
    "        plt.axis('off')\n",
    "        plt.title(title)\n",
    "        plt.show()\n",
    "    except:pass\n",
    "    \n",
    "    print('Recommendations\\n')\n",
    "\n",
    "\n",
    "    # Get the pairwise similarity scores of all movies with that movie\n",
    "    sim_scores = list(enumerate(\n",
    "        cosine_similarity(\n",
    "            tfidf_matrix,\n",
    "            tfidf_matrix[idx])))\n",
    "\n",
    "    # Sort the movies based on the similarity scores\n",
    "    sim_scores = sorted(sim_scores, key=lambda x: x[1], reverse=True)\n",
    "\n",
    "    # Get the scores of the 10 most similar movies\n",
    "    sim_scores = sim_scores[1:10]\n",
    "\n",
    "    # Get the movie indices\n",
    "    movie_indices = [i[0] for i in sim_scores]\n",
    "\n",
    "    # Return the top 10 most similar movies\n",
    "    result = df1.iloc[movie_indices]\n",
    "    \n",
    "    # show reco. movie posters\n",
    "    fig, ax = plt.subplots(2, 4, figsize=(15,15))\n",
    "    ax=ax.flatten()\n",
    "    for i, j in enumerate(result.poster_path):\n",
    "        try:\n",
    "            ax[i].axis('off')\n",
    "            ax[i].set_title(result.iloc[i].title)\n",
    "            a = io.imread(f'https://image.tmdb.org/t/p/w500/{j}')\n",
    "            ax[i].imshow(a)\n",
    "        except: pass\n",
    "    fig.tight_layout()\n",
    "    fig.show()"
   ]
  },
  {
   "cell_type": "code",
   "execution_count": 38,
   "id": "acb4584a-2fd9-4928-996c-537ace633c8e",
   "metadata": {},
   "outputs": [
    {
     "data": {
      "image/png": "[encoded data removed]",
      "text/plain": [
       "<Figure size 640x480 with 1 Axes>"
      ]
     },
     "metadata": {},
     "output_type": "display_data"
    },
    {
     "name": "stdout",
     "output_type": "stream",
     "text": [
      "Recommendations\n",
      "\n"
     ]
    }
   ],
   "source": [
    "get_recommendations(\"The Irishman\")"
   ]
  },
  {
   "cell_type": "code",
   "execution_count": 39,
   "id": "10a170c8-4b48-49af-b576-4a171ec896d5",
   "metadata": {},
   "outputs": [],
   "source": [
    "pickle.dump(df1,open('movie_list.pkl','wb'))\n",
    "pickle.dump(tfidf_matrix,open('tfidf_matrix.pkl','wb'))"
   ]
  },
  {
   "cell_type": "markdown",
   "id": "a136726c-2975-426e-b741-60233519e922",
   "metadata": {},
   "source": [
    "# <p style=\"background-color:#C71A27;font-family:verdana;color:white;text-align:center;letter-spacing:0.5px;font-size:100%;padding: 10px\"> Deployment </p>"
   ]
  },
  {
   "cell_type": "code",
   "execution_count": 41,
   "id": "48be0d15-1ff6-4fa6-8785-43043fc882d8",
   "metadata": {},
   "outputs": [
    {
     "name": "stdout",
     "output_type": "stream",
     "text": [
      "Channels:\n",
      " - conda-forge\n",
      " - defaults\n",
      "Platform: win-64\n",
      "Collecting package metadata (repodata.json): ...working... done\n",
      "Solving environment: ...working... done\n",
      "\n",
      "# All requested packages already installed.\n",
      "\n"
     ]
    }
   ],
   "source": [
    "!conda install -c conda-forge nodejs -y"
   ]
  },
  {
   "cell_type": "code",
   "execution_count": 42,
   "id": "ea126854-66a3-46a1-976a-e40375fe0f59",
   "metadata": {},
   "outputs": [
    {
     "name": "stdout",
     "output_type": "stream",
     "text": [
      "Note: you may need to restart the kernel to use updated packages.\n",
      "\n",
      "changed 22 packages in 3s\n"
     ]
    }
   ],
   "source": [
    "%pip install -q streamlit\n",
    "!npm install -g localtunnel -U --no-fund"
   ]
  },
  {
   "cell_type": "code",
   "execution_count": 46,
   "id": "2d400c7c-8b1d-4f05-bb93-afac51b2d654",
   "metadata": {},
   "outputs": [
    {
     "name": "stdout",
     "output_type": "stream",
     "text": [
      "Overwriting movie_recommendation_app.py\n"
     ]
    }
   ],
   "source": [
    "%%writefile movie_recommendation_app.py\n",
    "\n",
    "import pickle\n",
    "import streamlit as st\n",
    "from sklearn.metrics.pairwise import cosine_similarity\n",
    "from PIL import Image\n",
    "\n",
    "@st.cache_data\n",
    "def get_recommendation(title):\n",
    "    idx = df1.index[df1['title'] == title][0]\n",
    "    poster = f'https://image.tmdb.org/t/p/w500/{df1.loc[idx, \"poster_path\"]}'\n",
    "\n",
    "    # Get the pairwsie similarity scores of all movies with that movie\n",
    "    sim_scores = list(enumerate(\n",
    "        cosine_similarity(\n",
    "            tfidf_matrix,\n",
    "            tfidf_matrix[idx])))\n",
    "\n",
    "    # Sort the movies based on the similarity scores\n",
    "    sim_scores = sorted(sim_scores, key=lambda x: x[1], reverse=True)\n",
    "\n",
    "    # Get the scores of the 10 most similar movies\n",
    "    sim_scores = sim_scores[1:13]\n",
    "\n",
    "    # Get the movie indices\n",
    "    movie_indices = [i[0] for i in sim_scores]\n",
    "\n",
    "    # Return the top 10 most similar movies\n",
    "    result = df1.iloc[movie_indices]\n",
    "\n",
    "    recommended_movie_names = []\n",
    "    recommended_movie_posters = []\n",
    "    recommended_movie_overview = []\n",
    "\n",
    "    for i, j in enumerate(result.poster_path):\n",
    "        recommended_movie_names.append(result.iloc[i].title)\n",
    "        recommended_movie_posters.append(f'https://image.tmdb.org/t/p/w500/{j}')\n",
    "        recommended_movie_overview.append(result.iloc[i].overview)\n",
    "    return poster, recommended_movie_names, recommended_movie_posters, recommended_movie_overview\n",
    "\n",
    "\n",
    "image = Image.open('Movie recommender system.jpg')\n",
    "st.image(image)\n",
    "\n",
    "st.markdown('You might have wondered sometime or at some point that how do platforms like Netflix or AmazonPrime Video are able to recommend us TV shows or movies, what kind of an algorithm do these websites use to recommend us movies. Well as complicated or difficult as it might seem this is simply just a mixture of some machine learning algorithms with some Natural Language Processing. ')\n",
    "st.markdown('There are two main techniques used in recommendation system, known as content-based filtering and collaborative filtering')\n",
    "st.markdown('For this project I have used Content Based Recommendation System, It uses attributes such as genre, director, description, actors, etc. for movies, to make suggestions for the users. The intuition behind this sort of recommendation system is that if a user liked a particular movie or show, he/she might like a movie or a show similar to it.')\n",
    "\n",
    "df1 = pickle.load(open('movie_list.pkl ', 'rb'))\n",
    "tfidf_matrix = pickle.load(open('tfidf_matrix.pkl ', 'rb'))\n",
    "\n",
    "movies_list = df1['title'].values\n",
    "selected_movie = st.selectbox('Type and Choose The Movie',movies_list)\n",
    "\n",
    "if st.button('Show Recommendation'):\n",
    "    poster,recommended_movie_names,recommended_movie_posters,recommended_movie_overview = get_recommendation(selected_movie)\n",
    "    st.image(poster,width=160)\n",
    "    col1, col2, col3, col4 = st.columns(4)\n",
    "    with col1:\n",
    "        st.image(recommended_movie_posters[0])\n",
    "        st.markdown(recommended_movie_names[0])\n",
    "        with st.expander(\"OverView\"):\n",
    "            st.write(recommended_movie_overview[0])\n",
    "\n",
    "        st.image(recommended_movie_posters[4])\n",
    "        st.markdown(recommended_movie_names[4])\n",
    "        with st.expander(\"OverView\"):\n",
    "            st.write(recommended_movie_overview[4])\n",
    "\n",
    "        st.image(recommended_movie_posters[8])\n",
    "        st.markdown(recommended_movie_names[8])\n",
    "        with st.expander(\"OverView\"):\n",
    "            st.write(recommended_movie_overview[8])\n",
    "\n",
    "    with col2:\n",
    "        st.image(recommended_movie_posters[1])\n",
    "        st.markdown(recommended_movie_names[1])\n",
    "        with st.expander(\"OverView\"):\n",
    "            st.write(recommended_movie_overview[1])\n",
    "\n",
    "        st.image(recommended_movie_posters[5])\n",
    "        st.markdown(recommended_movie_names[5])\n",
    "        with st.expander(\"OverView\"):\n",
    "            st.write(recommended_movie_overview[5])\n",
    "\n",
    "        st.image(recommended_movie_posters[9])\n",
    "        st.markdown(recommended_movie_names[9])\n",
    "        with st.expander(\"OverView\"):\n",
    "            st.write(recommended_movie_overview[9])\n",
    "\n",
    "    with col3:\n",
    "        st.image(recommended_movie_posters[2])\n",
    "        st.markdown(recommended_movie_names[2])\n",
    "        with st.expander(\"OverView\"):\n",
    "            st.write(recommended_movie_overview[2])\n",
    "\n",
    "        st.image(recommended_movie_posters[6])\n",
    "        st.markdown(recommended_movie_names[6])\n",
    "        with st.expander(\"OverView\"):\n",
    "            st.write(recommended_movie_overview[6])\n",
    "\n",
    "        st.image(recommended_movie_posters[10])\n",
    "        st.markdown(recommended_movie_names[10])\n",
    "        with st.expander(\"OverView\"):\n",
    "            st.write(recommended_movie_overview[10])\n",
    "\n",
    "    with col4:\n",
    "        st.image(recommended_movie_posters[3])\n",
    "        st.markdown(recommended_movie_names[3])\n",
    "        with st.expander(\"OverView\"):\n",
    "            st.write(recommended_movie_overview[3])\n",
    "\n",
    "        st.image(recommended_movie_posters[7])\n",
    "        st.markdown(recommended_movie_names[7])\n",
    "        with st.expander(\"OverView\"):\n",
    "            st.write(recommended_movie_overview[7])\n",
    "\n",
    "        st.image(recommended_movie_posters[11])\n",
    "        st.markdown(recommended_movie_names[11])\n",
    "        with st.expander(\"OverView\"):\n",
    "            st.write(recommended_movie_overview[11])\n"
   ]
  },
  {
   "cell_type": "code",
   "execution_count": null,
   "id": "b6df49a0",
   "metadata": {},
   "outputs": [],
   "source": []
  }
 ],
 "metadata": {
  "kernelspec": {
   "display_name": "base",
   "language": "python",
   "name": "python3"
  },
  "language_info": {
   "codemirror_mode": {
    "name": "ipython",
    "version": 3
   },
   "file_extension": ".py",
   "mimetype": "text/x-python",
   "name": "python",
   "nbconvert_exporter": "python",
   "pygments_lexer": "ipython3",
   "version": "3.12.3"
  }
 },
 "nbformat": 4,
 "nbformat_minor": 5
}
